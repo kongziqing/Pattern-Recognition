{
 "cells": [
  {
   "cell_type": "code",
   "execution_count": null,
   "metadata": {},
   "outputs": [],
   "source": [
    "import numpy as np\n",
    "import pandas as pd\n",
    "from sklearn.preprocessing import StandardScaler\n",
    "from sklearn.neural_network import MLPClassifier\n",
    "from sklearn.model_selection import GridSearchCV"
   ]
  },
  {
   "cell_type": "code",
   "execution_count": null,
   "metadata": {},
   "outputs": [],
   "source": [
    "train_set = pd.read_csv('train.csv')\n",
    "train_X = train_set.values[:, 1:-1]   # shape = (49502, 93)\n",
    "train_Y = train_set.values[:, -1:]\n",
    "\n",
    "test_set = pd.read_csv('test.csv')\n",
    "test_X = test_set.values[:, 1:]\n",
    "\n",
    "train_X.shape, test_X.shape"
   ]
  },
  {
   "cell_type": "code",
   "execution_count": null,
   "metadata": {},
   "outputs": [],
   "source": [
    "train_X = train_X.astype(float)\n",
    "test_X = test_X.astype(float)\n",
    "X = np.vstack([train_X, test_X])\n",
    "X.shape"
   ]
  },
  {
   "cell_type": "code",
   "execution_count": null,
   "metadata": {},
   "outputs": [],
   "source": [
    "# PCA分析\n",
    "meanValue = np.mean(X, axis=0)        # 计算各特征的均值，按列计算\n",
    "covMat = np.cov(X, rowvar=0)          # 以列向量为变量计算协方差矩阵\n",
    "eigVals, eigVects = np.linalg.eig(covMat)   # 计算特征值和特征向量\n",
    "eigVal_index = np.argsort(eigVals)[::-1]    # 特征值从大到小排序\n",
    "\n",
    "sum_eigVals = sum(eigVals)\n",
    "threshold = sum_eigVals * 0.95\n",
    "tempsum = 0\n",
    "for i in range(len(eigVals)):\n",
    "    v = eigVals[eigVal_index[i]]\n",
    "    tempsum += v\n",
    "    print(f'第{i+1}个特征值：{v}，占比{v/sum_eigVals*100}%')\n",
    "    if tempsum >= threshold:\n",
    "        k = i + 1\n",
    "        print(f'\\n前{i+1}个特征值满足占比 95% 以上！共有{len(eigVals)}个特征值')\n",
    "        break"
   ]
  },
  {
   "cell_type": "code",
   "execution_count": null,
   "metadata": {},
   "outputs": [],
   "source": [
    "# PCA降维\n",
    "eigVectsMain = eigVects[:, eigVal_index[:k]]   # 选取基向量\n",
    "X_ld = np.matmul(X, eigVectsMain)  # 降维\n",
    "train_X_ld = X_ld[:49502]\n",
    "test_X_ld = X_ld[49502:]\n",
    "_, nd = test_X_ld.shape; nd"
   ]
  },
  {
   "cell_type": "code",
   "execution_count": null,
   "metadata": {},
   "outputs": [],
   "source": [
    "# 对数据的训练集进行标准化\n",
    "ss = StandardScaler()\n",
    "train_X = ss.fit_transform(np.float64(train_X_ld))"
   ]
  },
  {
   "cell_type": "code",
   "execution_count": null,
   "metadata": {},
   "outputs": [],
   "source": [
    "hl_sizes = []\n",
    "for i in range(7):\n",
    "    n = nd // 10 -1\n",
    "    item = []\n",
    "    for j in range(1,n):\n",
    "        p = np.random.rand()\n",
    "        if p < 0.6:\n",
    "            a = 9+10*j\n",
    "            b = a+10*j+1 \n",
    "            if b > nd-5:\n",
    "                break\n",
    "            item.append(np.random.randint(a, b))\n",
    "    if item:\n",
    "        hl_sizes.append(sorted(item, reverse=True))\n",
    "hl_sizes.append([40,20])\n",
    "hl_sizes"
   ]
  },
  {
   "cell_type": "code",
   "execution_count": null,
   "metadata": {},
   "outputs": [],
   "source": [
    "del_index = [1, 2, 3,4,6]\n",
    "del_index.sort(reverse=True)\n",
    "for item in del_index:\n",
    "    del hl_sizes[item]\n",
    "hl_sizes"
   ]
  },
  {
   "cell_type": "code",
   "execution_count": null,
   "metadata": {
    "scrolled": true
   },
   "outputs": [],
   "source": [
    "# 构建模型\n",
    "clf = MLPClassifier(solver='lbfgs', random_state=1)\n",
    "# 自动调参\n",
    "# hl_sizes = [[50, 40, 30, 20], [40, 20], [45, 30, 15]]\n",
    "param_grid = {'alpha':[1, 1e-1, 1e-2, 1e-3, 1e-4],'hidden_layer_sizes':hl_sizes}\n",
    "grid_search = GridSearchCV(clf, param_grid, n_jobs = 1, verbose=10)\n",
    "grid_search.fit(train_X[8000:12000,:], train_Y[8000:12000])\n",
    "alpha, hl_sizes = grid_search.best_params_['alpha'], grid_search.best_params_['hidden_layer_sizes'];alpha,hl_sizes"
   ]
  },
  {
   "cell_type": "code",
   "execution_count": null,
   "metadata": {},
   "outputs": [],
   "source": [
    "# 自动调参后，再次构建模型\n",
    "clf = MLPClassifier(solver='lbfgs', alpha=alpha, hidden_layer_sizes=hl_sizes, random_state=1)\n",
    "# 训练模型\n",
    "clf.fit(train_X_ld, train_Y)\n",
    "r = clf.score(train_X_ld, train_Y)\n",
    "print(\"R值(准确率):\", r)"
   ]
  },
  {
   "cell_type": "code",
   "execution_count": null,
   "metadata": {},
   "outputs": [],
   "source": [
    "# 预测\n",
    "test_X_ld = ss.fit_transform(np.float64(test_X_ld))  # 标准化\n",
    "test_Y_predict = clf.predict_proba(test_X_ld)\n",
    "test_Y_predict.shape"
   ]
  },
  {
   "cell_type": "code",
   "execution_count": null,
   "metadata": {},
   "outputs": [],
   "source": [
    "# 写入测试表\n",
    "submission = pd.read_csv('sampleSubmission.csv')\n",
    "submission.iloc[:,1:] = test_Y_predict[:]\n",
    "submission.head()\n",
    "submission.to_csv('sampleSubmission.csv',sep=',', header=True, index=False)"
   ]
  }
 ],
 "metadata": {
  "kernelspec": {
   "display_name": "Python 3",
   "language": "python",
   "name": "python3"
  },
  "language_info": {
   "codemirror_mode": {
    "name": "ipython",
    "version": 3
   },
   "file_extension": ".py",
   "mimetype": "text/x-python",
   "name": "python",
   "nbconvert_exporter": "python",
   "pygments_lexer": "ipython3",
   "version": "3.6.5"
  }
 },
 "nbformat": 4,
 "nbformat_minor": 2
}
